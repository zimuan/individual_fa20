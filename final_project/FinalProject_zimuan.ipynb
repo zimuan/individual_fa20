{
 "cells": [
  {
   "cell_type": "markdown",
   "metadata": {},
   "source": [
    "# COGS 108 - Final Project "
   ]
  },
  {
   "cell_type": "markdown",
   "metadata": {},
   "source": [
    "# Overview"
   ]
  },
  {
   "cell_type": "markdown",
   "metadata": {},
   "source": [
    "In this project, we want to determine whether if changing the boundary of determining a good review based on its' rating would affect the accuracy of prediction in sentiment analysis, specifically for San Diego Park reviews via yelp. We hypothesized that if we increase or decrease the boundary, it will result in a large change in prediction result and accuracy. By conducting two analysis with different boundaries on the yelp park review dataset, it turns out that the prediction accuracy on the testing dataset has a 9% increase, proving our hypothesis correct."
   ]
  },
  {
   "cell_type": "markdown",
   "metadata": {},
   "source": [
    "# Name & GitHub ID\n",
    "\n",
    "- Name: Zimu An\n",
    "- GitHub Username: zimuan"
   ]
  },
  {
   "cell_type": "markdown",
   "metadata": {},
   "source": [
    "# Research Question"
   ]
  },
  {
   "cell_type": "markdown",
   "metadata": {},
   "source": [
    "\"To what extent does changing the numeric boundary of classifying good rating and bad rating affect prediction outcome of San Diego yelp Park reviews by doing sentiment analysis?\""
   ]
  },
  {
   "cell_type": "markdown",
   "metadata": {},
   "source": [
    "## Background and Prior Work"
   ]
  },
  {
   "cell_type": "markdown",
   "metadata": {},
   "source": [
    "\"Why are we interested in determing what's good?\" This question might arise in your mind when you read this report. In fact, we are always dealing with this problem, trying to find out what's good in real life. For a very simple example, imagine if you are taking an exam, what score will make you think you performed will on this test? A 90% or a 85%, or even above 97% if you have a very high standard for yourself. For another reference, if you are a vehicle hobbyist trying to find a second hand car, or components on from car dealers, what determines its' quality of goodness? Is having below 30000 miles distance driven solid for a good second hand car? This list goes on and on.\n",
    "\n",
    "Since we are carrying out sentiment analysis, we are interested in both rating and the text part of the review. We care about the quality of the review. Very interestingly, in <b>*20 hilarious one star yelp reviews of national parks*</b>, we can see that many famous national parks have received malicious and irrelevant reviews. For example, in a one star review of Carlsbad Caverns National Park, the reviewer commented that \"Unless you find caves and rocks overwhelmingly fascinating then skip this\" makes us wonder about the quality of review. As a famous-for-cave park located in Mexico, why be there if there is no interest in caves at all? Do we contain similar reviews in San Diego Park reviews in yelp?\n",
    "\n",
    "The specific question we are approaching makes it very hard to search for similar studies, especially prior data science project, we can refer to standards for other industries. In Rolanstein's article <b>*What makes a good movie review*</b>, although he didn't discuss the numeric standards we mentioned above, he analyzed the qualitative side of making a good review, which is also important. He states that \"a good review should be reader-directed, not a vehicle of self-promotion for the critic. The main purpose of a review should be to clarify for the reader whether the movie is worth seeing.\"\n",
    "\n",
    "The reason why I try to explain this is because you might be confused when seeing the overview and research question. Now that things are clear, I am especially interested in this question because I wonder to what extent will the result change, if we adjust the standard for something that's good? In this case, how much will changing the boundary for good reviews from 4 to 3 (maximum is 5) affect the prediction accuracy in a TF-IDF sentiment analysis? We will try to find an answer to this puzzle in this project.\n",
    "\n",
    "References (include links):\n",
    "- 1) https://backpackers.com/20-hilarious-one-star-yelp-reviews-of-national-parks\n",
    "- 2) https://www.boomtownrap.com/4024/what-makes-a-good-movie-review/#:~:text=A%20good%20review%20should%20be,the%20movie%20is%20worth%20seeing."
   ]
  },
  {
   "cell_type": "markdown",
   "metadata": {},
   "source": [
    "# Hypothesis\n"
   ]
  },
  {
   "cell_type": "markdown",
   "metadata": {},
   "source": [
    "- In our dataset, the rating is between 0 to 5. My hypothesis is that changing the tipping point between good review and bad review by at least 1 point differential will result in a large effect on predicting the outcome of San Diego Park reviews.\n",
    "- By large effect, I indicate that there would be <b>at least</b> a 5-10% accuracy change on predicting the outcome by using TF-IDF for every point changed. For example, if we initially classify all the good ratings as ones that are above 4 <b>(inclusive)</b>, and change that boundary to 3, it will result in <b>at least</b> a 5-10% change in accuracy of prediction, regradless of increasing or decreasing.\n",
    "- I think this way because usually there is no fixed boundary in determining what's good, so if we drag that separation down or up, it's largely going to change the prediction, either in accuracy or results. Sometimes, there might be a review with a high rating (could be above 4) but with minor criticisms in the text review. On some other occasions, there might be a review with a lower rating, but has more positive words in it. These are all factors that can affect the process of sentiment analysis. Thus, changing the boundary of determing what's good will largely change the prediction."
   ]
  },
  {
   "cell_type": "markdown",
   "metadata": {},
   "source": [
    "# Dataset(s)"
   ]
  },
  {
   "cell_type": "markdown",
   "metadata": {},
   "source": [
    "- Dataset Name: San Diego Parks Yelp Data\n",
    "- Link to the dataset: https://github.com/COGS108/individual_fa20/blob/master/data/yelp_SD_reviews.csv\n",
    "- Number of observations: 2333"
   ]
  },
  {
   "cell_type": "markdown",
   "metadata": {},
   "source": [
    "This dataset contains 2333 reviews of various different San Diego Parks in English via yelp app. The data is collected and curated by Professor Ellis from https://www.yelp.com/. Note that some fields but not all fields are collected. For some long reviews, the ellipses at the end indicate that rest of the content was truncated (due to limitation of yelp)."
   ]
  },
  {
   "cell_type": "markdown",
   "metadata": {},
   "source": [
    "It contains 3 columns: \n",
    "- <b>id</b> (which specifies the name of the park);\n",
    "- <b>rating</b> (an integer from 0 to 5 for each observation);\n",
    "- <b>text</b> (which contains the corresponding review in English)."
   ]
  },
  {
   "cell_type": "markdown",
   "metadata": {},
   "source": [
    "# Setup"
   ]
  },
  {
   "cell_type": "markdown",
   "metadata": {},
   "source": [
    "In order to approach Natural Language Processing and find the result to the question by carrying out a sentiment analysis, we need to import the nltk package, a word tokenizer, and English language stopwords. These allow us to break down each sentences and disregard stopwords that don't effect the general outcome."
   ]
  },
  {
   "cell_type": "markdown",
   "metadata": {},
   "source": [
    "Similarly, as we learned in assignment 6, we will use a support vector machine (SVM) classifier to classify good reviews and bad reviews.\n",
    "To use the SVM, we need to divide our dataset up into training data and test data. We will use the training dataset to tune our weight for SVM and use those parameters to test on data we haven't seen from training data, which is our test data."
   ]
  },
  {
   "cell_type": "code",
   "execution_count": 1,
   "metadata": {},
   "outputs": [],
   "source": [
    "import numpy as np\n",
    "import pandas as pd\n",
    "import seaborn as sns\n",
    "\n",
    "import nltk\n",
    "from nltk.tokenize import word_tokenize\n",
    "from nltk.corpus import stopwords\n",
    "\n",
    "#   TF-IDF Vectorizer that first removes widely used words in the dataset and then transforms test data\n",
    "#   Metrics functions to evaluate performance\n",
    "from sklearn.svm import SVC\n",
    "from sklearn.feature_extraction.text import CountVectorizer, TfidfVectorizer\n",
    "from sklearn.metrics import classification_report, precision_recall_fscore_support"
   ]
  },
  {
   "cell_type": "markdown",
   "metadata": {},
   "source": [
    "Download the NLTK English tokenizer and the stopwords of all languages."
   ]
  },
  {
   "cell_type": "code",
   "execution_count": 2,
   "metadata": {},
   "outputs": [
    {
     "name": "stderr",
     "output_type": "stream",
     "text": [
      "[nltk_data] Downloading package punkt to /home/zian/nltk_data...\n",
      "[nltk_data]   Package punkt is already up-to-date!\n",
      "[nltk_data] Downloading package stopwords to /home/zian/nltk_data...\n",
      "[nltk_data]   Package stopwords is already up-to-date!\n"
     ]
    },
    {
     "data": {
      "text/plain": [
       "True"
      ]
     },
     "execution_count": 2,
     "metadata": {},
     "output_type": "execute_result"
    }
   ],
   "source": [
    "nltk.download('punkt')\n",
    "nltk.download('stopwords')"
   ]
  },
  {
   "cell_type": "markdown",
   "metadata": {},
   "source": [
    "Now we will load in the reviews as a DataFrame. I provided the first 5 rows just so we can take a glance at what informations are given. "
   ]
  },
  {
   "cell_type": "code",
   "execution_count": 3,
   "metadata": {},
   "outputs": [
    {
     "data": {
      "text/html": [
       "<div>\n",
       "<style scoped>\n",
       "    .dataframe tbody tr th:only-of-type {\n",
       "        vertical-align: middle;\n",
       "    }\n",
       "\n",
       "    .dataframe tbody tr th {\n",
       "        vertical-align: top;\n",
       "    }\n",
       "\n",
       "    .dataframe thead th {\n",
       "        text-align: right;\n",
       "    }\n",
       "</style>\n",
       "<table border=\"1\" class=\"dataframe\">\n",
       "  <thead>\n",
       "    <tr style=\"text-align: right;\">\n",
       "      <th></th>\n",
       "      <th>id</th>\n",
       "      <th>rating</th>\n",
       "      <th>text</th>\n",
       "    </tr>\n",
       "  </thead>\n",
       "  <tbody>\n",
       "    <tr>\n",
       "      <th>0</th>\n",
       "      <td>Balboa Park</td>\n",
       "      <td>5</td>\n",
       "      <td>Balboa Park is a must see when coming to San D...</td>\n",
       "    </tr>\n",
       "    <tr>\n",
       "      <th>1</th>\n",
       "      <td>Balboa Park</td>\n",
       "      <td>5</td>\n",
       "      <td>Beautiful grounds even to take a stroll during...</td>\n",
       "    </tr>\n",
       "    <tr>\n",
       "      <th>2</th>\n",
       "      <td>Balboa Park</td>\n",
       "      <td>5</td>\n",
       "      <td>Beautiful sightseeing in San Diego. Lots of wa...</td>\n",
       "    </tr>\n",
       "    <tr>\n",
       "      <th>3</th>\n",
       "      <td>Civita Park</td>\n",
       "      <td>5</td>\n",
       "      <td>Was invited to child's B-Day party pre Covid-1...</td>\n",
       "    </tr>\n",
       "    <tr>\n",
       "      <th>4</th>\n",
       "      <td>Civita Park</td>\n",
       "      <td>5</td>\n",
       "      <td>Pretty nice park, beautiful design.  Anyone is...</td>\n",
       "    </tr>\n",
       "  </tbody>\n",
       "</table>\n",
       "</div>"
      ],
      "text/plain": [
       "            id  rating                                               text\n",
       "0  Balboa Park       5  Balboa Park is a must see when coming to San D...\n",
       "1  Balboa Park       5  Beautiful grounds even to take a stroll during...\n",
       "2  Balboa Park       5  Beautiful sightseeing in San Diego. Lots of wa...\n",
       "3  Civita Park       5  Was invited to child's B-Day party pre Covid-1...\n",
       "4  Civita Park       5  Pretty nice park, beautiful design.  Anyone is..."
      ]
     },
     "execution_count": 3,
     "metadata": {},
     "output_type": "execute_result"
    }
   ],
   "source": [
    "park_review_df = pd.read_csv('yelp_SD_reviews.csv')\n",
    "park_review_df.head()"
   ]
  },
  {
   "cell_type": "markdown",
   "metadata": {},
   "source": [
    "It is observed that there are 3 columns (variables). We also need to make sure data is loaded correctly so that all 2333 observations were included."
   ]
  },
  {
   "cell_type": "code",
   "execution_count": 4,
   "metadata": {},
   "outputs": [
    {
     "data": {
      "text/plain": [
       "(2333, 3)"
      ]
     },
     "execution_count": 4,
     "metadata": {},
     "output_type": "execute_result"
    }
   ],
   "source": [
    "park_review_df.shape"
   ]
  },
  {
   "cell_type": "markdown",
   "metadata": {},
   "source": [
    "# Data Cleaning and Visualization"
   ]
  },
  {
   "cell_type": "markdown",
   "metadata": {},
   "source": [
    "We will take a look at the data types."
   ]
  },
  {
   "cell_type": "code",
   "execution_count": 5,
   "metadata": {},
   "outputs": [
    {
     "data": {
      "text/plain": [
       "id        object\n",
       "rating     int64\n",
       "text      object\n",
       "dtype: object"
      ]
     },
     "execution_count": 5,
     "metadata": {},
     "output_type": "execute_result"
    }
   ],
   "source": [
    "park_review_df.dtypes"
   ]
  },
  {
   "cell_type": "markdown",
   "metadata": {},
   "source": [
    "We see that the data type of `id` and `text` are object, which means they are strings abstracting the name of the park and the review itself respectively. The type of `rating` is integer, which means there is not in-between floats."
   ]
  },
  {
   "cell_type": "markdown",
   "metadata": {},
   "source": [
    "In the setup section, we see the header of the dataset. It strictly follows a tidy data format. Now, we will check if the dataframe has any null values."
   ]
  },
  {
   "cell_type": "code",
   "execution_count": 6,
   "metadata": {},
   "outputs": [
    {
     "data": {
      "text/plain": [
       "id        False\n",
       "rating    False\n",
       "text      False\n",
       "dtype: bool"
      ]
     },
     "execution_count": 6,
     "metadata": {},
     "output_type": "execute_result"
    }
   ],
   "source": [
    "park_review_df.isnull().any()"
   ]
  },
  {
   "cell_type": "markdown",
   "metadata": {},
   "source": [
    "This step makes sure that none of the variables have a missing value, which indicates that the dataset is already very clean and tidy to work with. "
   ]
  },
  {
   "cell_type": "markdown",
   "metadata": {},
   "source": [
    "To explore the data, we first look at its' summary statistics."
   ]
  },
  {
   "cell_type": "code",
   "execution_count": 7,
   "metadata": {},
   "outputs": [
    {
     "data": {
      "text/html": [
       "<div>\n",
       "<style scoped>\n",
       "    .dataframe tbody tr th:only-of-type {\n",
       "        vertical-align: middle;\n",
       "    }\n",
       "\n",
       "    .dataframe tbody tr th {\n",
       "        vertical-align: top;\n",
       "    }\n",
       "\n",
       "    .dataframe thead th {\n",
       "        text-align: right;\n",
       "    }\n",
       "</style>\n",
       "<table border=\"1\" class=\"dataframe\">\n",
       "  <thead>\n",
       "    <tr style=\"text-align: right;\">\n",
       "      <th></th>\n",
       "      <th>rating</th>\n",
       "    </tr>\n",
       "  </thead>\n",
       "  <tbody>\n",
       "    <tr>\n",
       "      <th>count</th>\n",
       "      <td>2333.000000</td>\n",
       "    </tr>\n",
       "    <tr>\n",
       "      <th>mean</th>\n",
       "      <td>4.185598</td>\n",
       "    </tr>\n",
       "    <tr>\n",
       "      <th>std</th>\n",
       "      <td>1.236009</td>\n",
       "    </tr>\n",
       "    <tr>\n",
       "      <th>min</th>\n",
       "      <td>1.000000</td>\n",
       "    </tr>\n",
       "    <tr>\n",
       "      <th>25%</th>\n",
       "      <td>4.000000</td>\n",
       "    </tr>\n",
       "    <tr>\n",
       "      <th>50%</th>\n",
       "      <td>5.000000</td>\n",
       "    </tr>\n",
       "    <tr>\n",
       "      <th>75%</th>\n",
       "      <td>5.000000</td>\n",
       "    </tr>\n",
       "    <tr>\n",
       "      <th>max</th>\n",
       "      <td>5.000000</td>\n",
       "    </tr>\n",
       "  </tbody>\n",
       "</table>\n",
       "</div>"
      ],
      "text/plain": [
       "            rating\n",
       "count  2333.000000\n",
       "mean      4.185598\n",
       "std       1.236009\n",
       "min       1.000000\n",
       "25%       4.000000\n",
       "50%       5.000000\n",
       "75%       5.000000\n",
       "max       5.000000"
      ]
     },
     "execution_count": 7,
     "metadata": {},
     "output_type": "execute_result"
    }
   ],
   "source": [
    "park_review_df.describe()"
   ]
  },
  {
   "cell_type": "markdown",
   "metadata": {},
   "source": [
    "We can see that the mean rating is 4.185598, which is relatively high, with a standard deviation of 1.236009. The minimum and maximum rating are 1 and 5 respectively. With Q1 being equal to 4 and Q3 equal to 5, we know that majority of the customers gave a pretty high rating that's above a 4. We could use a countplot of rating to visualize the distribution more directly."
   ]
  },
  {
   "cell_type": "code",
   "execution_count": 8,
   "metadata": {},
   "outputs": [
    {
     "data": {
      "text/plain": [
       "<matplotlib.axes._subplots.AxesSubplot at 0x7f5476fd71d0>"
      ]
     },
     "execution_count": 8,
     "metadata": {},
     "output_type": "execute_result"
    },
    {
     "data": {
      "image/png": "[encoded data removed]",
      "text/plain": [
       "<Figure size 432x288 with 1 Axes>"
      ]
     },
     "metadata": {
      "needs_background": "light"
     },
     "output_type": "display_data"
    }
   ],
   "source": [
    "sns.countplot(x=\"rating\", data=park_review_df, color='lightgray')"
   ]
  },
  {
   "cell_type": "markdown",
   "metadata": {},
   "source": [
    "The distribution of rating is left skewed, the high rating of mean is largely driven by the high rating 5, which has approximately 1400 observations out of the total 2333. But there are still some bad reviews (rating between 1 to 3), which take up about less than 500 observations."
   ]
  },
  {
   "cell_type": "markdown",
   "metadata": {},
   "source": [
    "# Data Analysis & Results"
   ]
  },
  {
   "cell_type": "markdown",
   "metadata": {},
   "source": [
    "## Part 1.1: Convert Ratings (boundary == 4)"
   ]
  },
  {
   "cell_type": "markdown",
   "metadata": {},
   "source": [
    "Our first step is to convert the all the 0 to 5 ratings to 0 and 1, in which 0 indicates bad reviews and 1 indicates good reviews. We will follow our hypothesis to first set the boundary to 4."
   ]
  },
  {
   "cell_type": "markdown",
   "metadata": {},
   "source": [
    "To do this, we will define a function called `convert_rating_1` that sets all the ratings above 4 (inclusive) as 1.0, all ratings below 4 (exclusive) as 0.0."
   ]
  },
  {
   "cell_type": "code",
   "execution_count": 9,
   "metadata": {},
   "outputs": [],
   "source": [
    "def convert_rating_1(rating):\n",
    "    if rating >= 4:\n",
    "        return 1.0\n",
    "    else:\n",
    "        return 0.0"
   ]
  },
  {
   "cell_type": "markdown",
   "metadata": {},
   "source": [
    "Apply this function to the `park_review_df` dataframe and save it as a new dataframe `PR_df_1`. Add a new column with these converted ratings to the new dataframe."
   ]
  },
  {
   "cell_type": "code",
   "execution_count": 10,
   "metadata": {},
   "outputs": [
    {
     "data": {
      "text/html": [
       "<div>\n",
       "<style scoped>\n",
       "    .dataframe tbody tr th:only-of-type {\n",
       "        vertical-align: middle;\n",
       "    }\n",
       "\n",
       "    .dataframe tbody tr th {\n",
       "        vertical-align: top;\n",
       "    }\n",
       "\n",
       "    .dataframe thead th {\n",
       "        text-align: right;\n",
       "    }\n",
       "</style>\n",
       "<table border=\"1\" class=\"dataframe\">\n",
       "  <thead>\n",
       "    <tr style=\"text-align: right;\">\n",
       "      <th></th>\n",
       "      <th>id</th>\n",
       "      <th>rating</th>\n",
       "      <th>text</th>\n",
       "      <th>y</th>\n",
       "    </tr>\n",
       "  </thead>\n",
       "  <tbody>\n",
       "    <tr>\n",
       "      <th>0</th>\n",
       "      <td>Balboa Park</td>\n",
       "      <td>5</td>\n",
       "      <td>Balboa Park is a must see when coming to San D...</td>\n",
       "      <td>1.0</td>\n",
       "    </tr>\n",
       "    <tr>\n",
       "      <th>1</th>\n",
       "      <td>Balboa Park</td>\n",
       "      <td>5</td>\n",
       "      <td>Beautiful grounds even to take a stroll during...</td>\n",
       "      <td>1.0</td>\n",
       "    </tr>\n",
       "    <tr>\n",
       "      <th>2</th>\n",
       "      <td>Balboa Park</td>\n",
       "      <td>5</td>\n",
       "      <td>Beautiful sightseeing in San Diego. Lots of wa...</td>\n",
       "      <td>1.0</td>\n",
       "    </tr>\n",
       "    <tr>\n",
       "      <th>3</th>\n",
       "      <td>Civita Park</td>\n",
       "      <td>5</td>\n",
       "      <td>Was invited to child's B-Day party pre Covid-1...</td>\n",
       "      <td>1.0</td>\n",
       "    </tr>\n",
       "    <tr>\n",
       "      <th>4</th>\n",
       "      <td>Civita Park</td>\n",
       "      <td>5</td>\n",
       "      <td>Pretty nice park, beautiful design.  Anyone is...</td>\n",
       "      <td>1.0</td>\n",
       "    </tr>\n",
       "    <tr>\n",
       "      <th>...</th>\n",
       "      <td>...</td>\n",
       "      <td>...</td>\n",
       "      <td>...</td>\n",
       "      <td>...</td>\n",
       "    </tr>\n",
       "    <tr>\n",
       "      <th>2328</th>\n",
       "      <td>Petco Park</td>\n",
       "      <td>5</td>\n",
       "      <td>I have visited over 27 MLB Ballparks including...</td>\n",
       "      <td>1.0</td>\n",
       "    </tr>\n",
       "    <tr>\n",
       "      <th>2329</th>\n",
       "      <td>Ann D. L'Heureux Memorial Dog Park</td>\n",
       "      <td>4</td>\n",
       "      <td>No grass here but it's a great dog park. if yo...</td>\n",
       "      <td>1.0</td>\n",
       "    </tr>\n",
       "    <tr>\n",
       "      <th>2330</th>\n",
       "      <td>Ann D. L'Heureux Memorial Dog Park</td>\n",
       "      <td>3</td>\n",
       "      <td>I love taking our cholate lab here, however, t...</td>\n",
       "      <td>0.0</td>\n",
       "    </tr>\n",
       "    <tr>\n",
       "      <th>2331</th>\n",
       "      <td>Ann D. L'Heureux Memorial Dog Park</td>\n",
       "      <td>3</td>\n",
       "      <td>Pretty small dog park overall. The center of t...</td>\n",
       "      <td>0.0</td>\n",
       "    </tr>\n",
       "    <tr>\n",
       "      <th>2332</th>\n",
       "      <td>Fairbrook Farm</td>\n",
       "      <td>5</td>\n",
       "      <td>Super friendly staff! I always feel welcome an...</td>\n",
       "      <td>1.0</td>\n",
       "    </tr>\n",
       "  </tbody>\n",
       "</table>\n",
       "<p>2333 rows × 4 columns</p>\n",
       "</div>"
      ],
      "text/plain": [
       "                                      id  rating  \\\n",
       "0                            Balboa Park       5   \n",
       "1                            Balboa Park       5   \n",
       "2                            Balboa Park       5   \n",
       "3                            Civita Park       5   \n",
       "4                            Civita Park       5   \n",
       "...                                  ...     ...   \n",
       "2328                          Petco Park       5   \n",
       "2329  Ann D. L'Heureux Memorial Dog Park       4   \n",
       "2330  Ann D. L'Heureux Memorial Dog Park       3   \n",
       "2331  Ann D. L'Heureux Memorial Dog Park       3   \n",
       "2332                      Fairbrook Farm       5   \n",
       "\n",
       "                                                   text    y  \n",
       "0     Balboa Park is a must see when coming to San D...  1.0  \n",
       "1     Beautiful grounds even to take a stroll during...  1.0  \n",
       "2     Beautiful sightseeing in San Diego. Lots of wa...  1.0  \n",
       "3     Was invited to child's B-Day party pre Covid-1...  1.0  \n",
       "4     Pretty nice park, beautiful design.  Anyone is...  1.0  \n",
       "...                                                 ...  ...  \n",
       "2328  I have visited over 27 MLB Ballparks including...  1.0  \n",
       "2329  No grass here but it's a great dog park. if yo...  1.0  \n",
       "2330  I love taking our cholate lab here, however, t...  0.0  \n",
       "2331  Pretty small dog park overall. The center of t...  0.0  \n",
       "2332  Super friendly staff! I always feel welcome an...  1.0  \n",
       "\n",
       "[2333 rows x 4 columns]"
      ]
     },
     "execution_count": 10,
     "metadata": {},
     "output_type": "execute_result"
    }
   ],
   "source": [
    "PR_df_1 = park_review_df.assign(y = park_review_df['rating'].apply(convert_rating_1))\n",
    "PR_df_1"
   ]
  },
  {
   "cell_type": "markdown",
   "metadata": {},
   "source": [
    "After we transform original rating to the new binary rating, we need to take a glance of the distribution of column `y`."
   ]
  },
  {
   "cell_type": "code",
   "execution_count": 11,
   "metadata": {},
   "outputs": [
    {
     "data": {
      "text/plain": [
       "<matplotlib.axes._subplots.AxesSubplot at 0x7f5474ecd3d0>"
      ]
     },
     "execution_count": 11,
     "metadata": {},
     "output_type": "execute_result"
    },
    {
     "data": {
      "image/png": "[encoded data removed]",
      "text/plain": [
       "<Figure size 432x288 with 1 Axes>"
      ]
     },
     "metadata": {
      "needs_background": "light"
     },
     "output_type": "display_data"
    }
   ],
   "source": [
    "sns.countplot(x=\"y\", data=PR_df_1, color='lightblue')"
   ]
  },
  {
   "cell_type": "code",
   "execution_count": 12,
   "metadata": {},
   "outputs": [
    {
     "data": {
      "text/plain": [
       "count    2333.000000\n",
       "mean        0.803686\n",
       "std         0.397294\n",
       "min         0.000000\n",
       "25%         1.000000\n",
       "50%         1.000000\n",
       "75%         1.000000\n",
       "max         1.000000\n",
       "Name: y, dtype: float64"
      ]
     },
     "execution_count": 12,
     "metadata": {},
     "output_type": "execute_result"
    }
   ],
   "source": [
    "PR_df_1['y'].describe()"
   ]
  },
  {
   "cell_type": "markdown",
   "metadata": {},
   "source": [
    "From the above countplot and summary statistics of the converted rating, we see that about 80% of the reviews count as good reviews."
   ]
  },
  {
   "cell_type": "markdown",
   "metadata": {},
   "source": [
    "We will take the column 'y' out and save as an np.array."
   ]
  },
  {
   "cell_type": "code",
   "execution_count": 13,
   "metadata": {},
   "outputs": [],
   "source": [
    "PR_y_1 = np.array(PR_df_1['y'])"
   ]
  },
  {
   "cell_type": "code",
   "execution_count": 14,
   "metadata": {},
   "outputs": [
    {
     "data": {
      "text/plain": [
       "(2333,)"
      ]
     },
     "execution_count": 14,
     "metadata": {},
     "output_type": "execute_result"
    }
   ],
   "source": [
    "PR_y_1.shape"
   ]
  },
  {
   "cell_type": "markdown",
   "metadata": {},
   "source": [
    "## Part 1.2: TF-IDF"
   ]
  },
  {
   "cell_type": "markdown",
   "metadata": {},
   "source": [
    "Now, we will use TF-IDF to encode the text data. "
   ]
  },
  {
   "cell_type": "markdown",
   "metadata": {},
   "source": [
    "We will create a `TfidfVectorizer` object to transform the text data into vectors with TF-IDF\n",
    "\n",
    "To do so, we will initialize a `TfidfVectorizer` object, and name it as `tfidf`.\n",
    "\n",
    "We need to pass 4 arguments into the \"TfidfVectorizer\" to initialize a \"tfidf\":\n",
    "  1. `sublinear_tf`: `True`\n",
    "           Set to apply TF scaling.\n",
    "  2. `analyzer`: `'word'`\n",
    "           Set to analyze the data at the word-level\n",
    "  3. `max_features`: `2000`\n",
    "           Set the max number of unique words\n",
    "  4. `tokenizer`: `word_tokenize`\n",
    "           Set to tokenize the text data by using the word_tokenizer from NLTK\n"
   ]
  },
  {
   "cell_type": "code",
   "execution_count": 15,
   "metadata": {},
   "outputs": [
    {
     "data": {
      "text/plain": [
       "TfidfVectorizer(analyzer='word', binary=False, decode_error='strict',\n",
       "                dtype=<class 'numpy.float64'>, encoding='utf-8',\n",
       "                input='content', lowercase=True, max_df=1.0, max_features=2000,\n",
       "                min_df=1, ngram_range=(1, 1), norm='l2', preprocessor=None,\n",
       "                smooth_idf=True, stop_words=None, strip_accents=None,\n",
       "                sublinear_tf=True, token_pattern='(?u)\\\\b\\\\w\\\\w+\\\\b',\n",
       "                tokenizer=<function word_tokenize at 0x7f5477eb1a70>,\n",
       "                use_idf=True, vocabulary=None)"
      ]
     },
     "execution_count": 15,
     "metadata": {},
     "output_type": "execute_result"
    }
   ],
   "source": [
    "tfidf = TfidfVectorizer(sublinear_tf = True, analyzer = 'word', max_features = 2000, tokenizer = word_tokenize)\n",
    "tfidf"
   ]
  },
  {
   "cell_type": "markdown",
   "metadata": {},
   "source": [
    "Now, we will transfrom the 'text' column of `PR_df_1` to vectors using the `tfidf` we have created. "
   ]
  },
  {
   "cell_type": "code",
   "execution_count": 16,
   "metadata": {},
   "outputs": [
    {
     "data": {
      "text/plain": [
       "array([[0.        , 0.        , 0.        , ..., 0.        , 0.        ,\n",
       "        0.        ],\n",
       "       [0.        , 0.        , 0.        , ..., 0.        , 0.        ,\n",
       "        0.        ],\n",
       "       [0.        , 0.        , 0.        , ..., 0.        , 0.        ,\n",
       "        0.        ],\n",
       "       ...,\n",
       "       [0.        , 0.        , 0.        , ..., 0.        , 0.        ,\n",
       "        0.        ],\n",
       "       [0.        , 0.        , 0.        , ..., 0.        , 0.        ,\n",
       "        0.        ],\n",
       "       [0.21264729, 0.        , 0.        , ..., 0.        , 0.        ,\n",
       "        0.        ]])"
      ]
     },
     "execution_count": 16,
     "metadata": {},
     "output_type": "execute_result"
    }
   ],
   "source": [
    "PR_tfidf_X_1 = tfidf.fit_transform(PR_df_1['text']).toarray()\n",
    "PR_tfidf_X_1"
   ]
  },
  {
   "cell_type": "markdown",
   "metadata": {},
   "source": [
    "We need to split up the dataset to training data and testing data. We will follow the convention of 80/20 to take the first 80% observations as our training set, and the rest 20% as our testing set."
   ]
  },
  {
   "cell_type": "markdown",
   "metadata": {},
   "source": [
    "Since we have an odd total number of observations, we will cast the 80% of that number into an integer to use it as our boundary."
   ]
  },
  {
   "cell_type": "code",
   "execution_count": 17,
   "metadata": {},
   "outputs": [
    {
     "data": {
      "text/plain": [
       "1866"
      ]
     },
     "execution_count": 17,
     "metadata": {},
     "output_type": "execute_result"
    }
   ],
   "source": [
    "num_training = int(2333*0.8)\n",
    "num_training"
   ]
  },
  {
   "cell_type": "code",
   "execution_count": 18,
   "metadata": {},
   "outputs": [],
   "source": [
    "PR_train_tfidf_X_1 = PR_tfidf_X_1[:num_training, :]\n",
    "PR_train_tfidf_y_1 = PR_y_1[:num_training, ]\n",
    "PR_test_tfidf_X_1 = PR_tfidf_X_1[num_training:, :]\n",
    "PR_test_tfidf_y_1 = PR_y_1[num_training:, ]"
   ]
  },
  {
   "cell_type": "markdown",
   "metadata": {},
   "source": [
    "Define a function called `train_SVM` that initializes an SVM classifier and trains it.\n",
    "\n",
    "Inputs: \n",
    "- `X`: np.ndarray, training samples, \n",
    "- `y`: np.ndarray, training labels,\n",
    "- `kernel`: string, set the default value of \"kernel\" as \"linear\""
   ]
  },
  {
   "cell_type": "code",
   "execution_count": 19,
   "metadata": {},
   "outputs": [],
   "source": [
    "def train_SVM(X, y, kernel='linear'):\n",
    "    clf = SVC(kernel = kernel)\n",
    "    return clf.fit(X, y)"
   ]
  },
  {
   "cell_type": "markdown",
   "metadata": {},
   "source": [
    "We use the SVM classifier to train our samples `PR_train_tfidf_X_1` and rating `PR_train_tfidf_y_1`"
   ]
  },
  {
   "cell_type": "code",
   "execution_count": 20,
   "metadata": {},
   "outputs": [],
   "source": [
    "PR_tfidf_clf_1 = train_SVM(PR_train_tfidf_X_1, PR_train_tfidf_y_1)"
   ]
  },
  {
   "cell_type": "markdown",
   "metadata": {},
   "source": [
    "Predict the ratings for both the training and test samples."
   ]
  },
  {
   "cell_type": "code",
   "execution_count": 21,
   "metadata": {},
   "outputs": [],
   "source": [
    "PR_pred_train_tfidf_y_1 = PR_tfidf_clf_1.predict(PR_train_tfidf_X_1)\n",
    "PR_pred_test_tfidf_y_1 = PR_tfidf_clf_1.predict(PR_test_tfidf_X_1)"
   ]
  },
  {
   "cell_type": "markdown",
   "metadata": {},
   "source": [
    "Now we see the performance of the prediction on both the training dataset and test dataset."
   ]
  },
  {
   "cell_type": "code",
   "execution_count": 22,
   "metadata": {},
   "outputs": [
    {
     "name": "stdout",
     "output_type": "stream",
     "text": [
      "              precision    recall  f1-score   support\n",
      "\n",
      "         0.0       0.99      0.42      0.59       351\n",
      "         1.0       0.88      1.00      0.94      1515\n",
      "\n",
      "    accuracy                           0.89      1866\n",
      "   macro avg       0.94      0.71      0.76      1866\n",
      "weighted avg       0.90      0.89      0.87      1866\n",
      "\n"
     ]
    }
   ],
   "source": [
    "# 89% accuracy on the training dataset\n",
    "print(classification_report(PR_train_tfidf_y_1, PR_pred_train_tfidf_y_1))"
   ]
  },
  {
   "cell_type": "code",
   "execution_count": 23,
   "metadata": {},
   "outputs": [
    {
     "name": "stdout",
     "output_type": "stream",
     "text": [
      "              precision    recall  f1-score   support\n",
      "\n",
      "         0.0       0.62      0.07      0.13       107\n",
      "         1.0       0.78      0.99      0.87       360\n",
      "\n",
      "    accuracy                           0.78       467\n",
      "   macro avg       0.70      0.53      0.50       467\n",
      "weighted avg       0.74      0.78      0.70       467\n",
      "\n"
     ]
    }
   ],
   "source": [
    "# 78% accuracy on the testing dataset\n",
    "print(classification_report(PR_test_tfidf_y_1, PR_pred_test_tfidf_y_1))"
   ]
  },
  {
   "cell_type": "markdown",
   "metadata": {},
   "source": [
    "As we finishing up our sentiment analysis via TF-IDF on the park reviews with a boundary equal to 4, we record the corresponding accuracy of prediction which is <b>78%</b>."
   ]
  },
  {
   "cell_type": "markdown",
   "metadata": {},
   "source": [
    "## Part 2.1: Convert Ratings (boundary == 3)"
   ]
  },
  {
   "cell_type": "markdown",
   "metadata": {},
   "source": [
    "As we hypothesized previously, if we change the boundary to 3, there would be at least a 5-10% change in accuracy of prediction, regardless of decreasing or increasing."
   ]
  },
  {
   "cell_type": "markdown",
   "metadata": {},
   "source": [
    "To find out if that's the case, we need to define a new function `convert_rating_2` that sets all the ratings above 3 (inclusive) as 1.0, all ratings below 3 (exclusive) as 0.0."
   ]
  },
  {
   "cell_type": "code",
   "execution_count": 24,
   "metadata": {},
   "outputs": [],
   "source": [
    "def convert_rating_2(rating):\n",
    "    if rating >= 3:\n",
    "        return 1.0\n",
    "    else:\n",
    "        return 0.0"
   ]
  },
  {
   "cell_type": "markdown",
   "metadata": {},
   "source": [
    "Apply this function to the `park_review_df` dataframe and save it as a new dataframe `PR_df_2`. Add a new column with these converted ratings to the new dataframe."
   ]
  },
  {
   "cell_type": "code",
   "execution_count": 25,
   "metadata": {},
   "outputs": [
    {
     "data": {
      "text/html": [
       "<div>\n",
       "<style scoped>\n",
       "    .dataframe tbody tr th:only-of-type {\n",
       "        vertical-align: middle;\n",
       "    }\n",
       "\n",
       "    .dataframe tbody tr th {\n",
       "        vertical-align: top;\n",
       "    }\n",
       "\n",
       "    .dataframe thead th {\n",
       "        text-align: right;\n",
       "    }\n",
       "</style>\n",
       "<table border=\"1\" class=\"dataframe\">\n",
       "  <thead>\n",
       "    <tr style=\"text-align: right;\">\n",
       "      <th></th>\n",
       "      <th>id</th>\n",
       "      <th>rating</th>\n",
       "      <th>text</th>\n",
       "      <th>y</th>\n",
       "    </tr>\n",
       "  </thead>\n",
       "  <tbody>\n",
       "    <tr>\n",
       "      <th>0</th>\n",
       "      <td>Balboa Park</td>\n",
       "      <td>5</td>\n",
       "      <td>Balboa Park is a must see when coming to San D...</td>\n",
       "      <td>1.0</td>\n",
       "    </tr>\n",
       "    <tr>\n",
       "      <th>1</th>\n",
       "      <td>Balboa Park</td>\n",
       "      <td>5</td>\n",
       "      <td>Beautiful grounds even to take a stroll during...</td>\n",
       "      <td>1.0</td>\n",
       "    </tr>\n",
       "    <tr>\n",
       "      <th>2</th>\n",
       "      <td>Balboa Park</td>\n",
       "      <td>5</td>\n",
       "      <td>Beautiful sightseeing in San Diego. Lots of wa...</td>\n",
       "      <td>1.0</td>\n",
       "    </tr>\n",
       "    <tr>\n",
       "      <th>3</th>\n",
       "      <td>Civita Park</td>\n",
       "      <td>5</td>\n",
       "      <td>Was invited to child's B-Day party pre Covid-1...</td>\n",
       "      <td>1.0</td>\n",
       "    </tr>\n",
       "    <tr>\n",
       "      <th>4</th>\n",
       "      <td>Civita Park</td>\n",
       "      <td>5</td>\n",
       "      <td>Pretty nice park, beautiful design.  Anyone is...</td>\n",
       "      <td>1.0</td>\n",
       "    </tr>\n",
       "    <tr>\n",
       "      <th>...</th>\n",
       "      <td>...</td>\n",
       "      <td>...</td>\n",
       "      <td>...</td>\n",
       "      <td>...</td>\n",
       "    </tr>\n",
       "    <tr>\n",
       "      <th>2328</th>\n",
       "      <td>Petco Park</td>\n",
       "      <td>5</td>\n",
       "      <td>I have visited over 27 MLB Ballparks including...</td>\n",
       "      <td>1.0</td>\n",
       "    </tr>\n",
       "    <tr>\n",
       "      <th>2329</th>\n",
       "      <td>Ann D. L'Heureux Memorial Dog Park</td>\n",
       "      <td>4</td>\n",
       "      <td>No grass here but it's a great dog park. if yo...</td>\n",
       "      <td>1.0</td>\n",
       "    </tr>\n",
       "    <tr>\n",
       "      <th>2330</th>\n",
       "      <td>Ann D. L'Heureux Memorial Dog Park</td>\n",
       "      <td>3</td>\n",
       "      <td>I love taking our cholate lab here, however, t...</td>\n",
       "      <td>1.0</td>\n",
       "    </tr>\n",
       "    <tr>\n",
       "      <th>2331</th>\n",
       "      <td>Ann D. L'Heureux Memorial Dog Park</td>\n",
       "      <td>3</td>\n",
       "      <td>Pretty small dog park overall. The center of t...</td>\n",
       "      <td>1.0</td>\n",
       "    </tr>\n",
       "    <tr>\n",
       "      <th>2332</th>\n",
       "      <td>Fairbrook Farm</td>\n",
       "      <td>5</td>\n",
       "      <td>Super friendly staff! I always feel welcome an...</td>\n",
       "      <td>1.0</td>\n",
       "    </tr>\n",
       "  </tbody>\n",
       "</table>\n",
       "<p>2333 rows × 4 columns</p>\n",
       "</div>"
      ],
      "text/plain": [
       "                                      id  rating  \\\n",
       "0                            Balboa Park       5   \n",
       "1                            Balboa Park       5   \n",
       "2                            Balboa Park       5   \n",
       "3                            Civita Park       5   \n",
       "4                            Civita Park       5   \n",
       "...                                  ...     ...   \n",
       "2328                          Petco Park       5   \n",
       "2329  Ann D. L'Heureux Memorial Dog Park       4   \n",
       "2330  Ann D. L'Heureux Memorial Dog Park       3   \n",
       "2331  Ann D. L'Heureux Memorial Dog Park       3   \n",
       "2332                      Fairbrook Farm       5   \n",
       "\n",
       "                                                   text    y  \n",
       "0     Balboa Park is a must see when coming to San D...  1.0  \n",
       "1     Beautiful grounds even to take a stroll during...  1.0  \n",
       "2     Beautiful sightseeing in San Diego. Lots of wa...  1.0  \n",
       "3     Was invited to child's B-Day party pre Covid-1...  1.0  \n",
       "4     Pretty nice park, beautiful design.  Anyone is...  1.0  \n",
       "...                                                 ...  ...  \n",
       "2328  I have visited over 27 MLB Ballparks including...  1.0  \n",
       "2329  No grass here but it's a great dog park. if yo...  1.0  \n",
       "2330  I love taking our cholate lab here, however, t...  1.0  \n",
       "2331  Pretty small dog park overall. The center of t...  1.0  \n",
       "2332  Super friendly staff! I always feel welcome an...  1.0  \n",
       "\n",
       "[2333 rows x 4 columns]"
      ]
     },
     "execution_count": 25,
     "metadata": {},
     "output_type": "execute_result"
    }
   ],
   "source": [
    "PR_df_2 = park_review_df.assign(y = park_review_df['rating'].apply(convert_rating_2))\n",
    "PR_df_2"
   ]
  },
  {
   "cell_type": "code",
   "execution_count": 26,
   "metadata": {},
   "outputs": [
    {
     "data": {
      "text/plain": [
       "<matplotlib.axes._subplots.AxesSubplot at 0x7f5474c4b450>"
      ]
     },
     "execution_count": 26,
     "metadata": {},
     "output_type": "execute_result"
    },
    {
     "data": {
      "image/png": "[encoded data removed]",
      "text/plain": [
       "<Figure size 432x288 with 1 Axes>"
      ]
     },
     "metadata": {
      "needs_background": "light"
     },
     "output_type": "display_data"
    }
   ],
   "source": [
    "sns.countplot(x=\"y\", data=PR_df_2, color='lightblue')"
   ]
  },
  {
   "cell_type": "code",
   "execution_count": 27,
   "metadata": {},
   "outputs": [
    {
     "data": {
      "text/plain": [
       "count    2333.000000\n",
       "mean        0.883412\n",
       "std         0.320998\n",
       "min         0.000000\n",
       "25%         1.000000\n",
       "50%         1.000000\n",
       "75%         1.000000\n",
       "max         1.000000\n",
       "Name: y, dtype: float64"
      ]
     },
     "execution_count": 27,
     "metadata": {},
     "output_type": "execute_result"
    }
   ],
   "source": [
    "PR_df_2['y'].describe()"
   ]
  },
  {
   "cell_type": "markdown",
   "metadata": {},
   "source": [
    "Intuitively, after we lower the standard for a good review to have a rating greater than equal to 3, about 88% of the reviews now are considered as good reviews."
   ]
  },
  {
   "cell_type": "markdown",
   "metadata": {},
   "source": [
    "We will take the new column 'y' out and save as an np.array."
   ]
  },
  {
   "cell_type": "code",
   "execution_count": 28,
   "metadata": {},
   "outputs": [
    {
     "data": {
      "text/plain": [
       "array([1., 1., 1., ..., 1., 1., 1.])"
      ]
     },
     "execution_count": 28,
     "metadata": {},
     "output_type": "execute_result"
    }
   ],
   "source": [
    "PR_y_2 = np.array(PR_df_2['y'])\n",
    "PR_y_2"
   ]
  },
  {
   "cell_type": "markdown",
   "metadata": {},
   "source": [
    "## Part 2.2: TF-IDF"
   ]
  },
  {
   "cell_type": "markdown",
   "metadata": {},
   "source": [
    "For the following parts, since we have created our `train_SVM` and `tfidf`, we will repeat the analysis steps we did in Part 1.2."
   ]
  },
  {
   "cell_type": "code",
   "execution_count": 29,
   "metadata": {},
   "outputs": [
    {
     "data": {
      "text/plain": [
       "array([[0.        , 0.        , 0.        , ..., 0.        , 0.        ,\n",
       "        0.        ],\n",
       "       [0.        , 0.        , 0.        , ..., 0.        , 0.        ,\n",
       "        0.        ],\n",
       "       [0.        , 0.        , 0.        , ..., 0.        , 0.        ,\n",
       "        0.        ],\n",
       "       ...,\n",
       "       [0.        , 0.        , 0.        , ..., 0.        , 0.        ,\n",
       "        0.        ],\n",
       "       [0.        , 0.        , 0.        , ..., 0.        , 0.        ,\n",
       "        0.        ],\n",
       "       [0.21264729, 0.        , 0.        , ..., 0.        , 0.        ,\n",
       "        0.        ]])"
      ]
     },
     "execution_count": 29,
     "metadata": {},
     "output_type": "execute_result"
    }
   ],
   "source": [
    "PR_tfidf_X_2 = tfidf.fit_transform(PR_df_2['text']).toarray()\n",
    "PR_tfidf_X_2"
   ]
  },
  {
   "cell_type": "markdown",
   "metadata": {},
   "source": [
    "Divide the data in to training and testing set by the same proportion in Part 1.2."
   ]
  },
  {
   "cell_type": "code",
   "execution_count": 30,
   "metadata": {},
   "outputs": [],
   "source": [
    "PR_train_tfidf_X_2 = PR_tfidf_X_2[:num_training, :]\n",
    "PR_train_tfidf_y_2 = PR_y_2[:num_training, ]\n",
    "PR_test_tfidf_X_2 = PR_tfidf_X_2[num_training:, :]\n",
    "PR_test_tfidf_y_2 = PR_y_2[num_training:, ]"
   ]
  },
  {
   "cell_type": "markdown",
   "metadata": {},
   "source": [
    "Use SVM to train our samples `PR_train_tfidf_X_2` and rating `PR_train_tfidf_y_2`."
   ]
  },
  {
   "cell_type": "code",
   "execution_count": 31,
   "metadata": {},
   "outputs": [],
   "source": [
    "PR_tfidf_clf_2 = train_SVM(PR_train_tfidf_X_2, PR_train_tfidf_y_2)"
   ]
  },
  {
   "cell_type": "markdown",
   "metadata": {},
   "source": [
    "Predict the rating for both training and testing samples."
   ]
  },
  {
   "cell_type": "code",
   "execution_count": 32,
   "metadata": {},
   "outputs": [],
   "source": [
    "PR_pred_train_tfidf_y_2 = PR_tfidf_clf_2.predict(PR_train_tfidf_X_2)\n",
    "PR_pred_test_tfidf_y_2 = PR_tfidf_clf_2.predict(PR_test_tfidf_X_2)"
   ]
  },
  {
   "cell_type": "markdown",
   "metadata": {},
   "source": [
    "Print the result of prediction. Again, we look at if there is a relatively big change in accuracy."
   ]
  },
  {
   "cell_type": "code",
   "execution_count": 33,
   "metadata": {},
   "outputs": [
    {
     "name": "stdout",
     "output_type": "stream",
     "text": [
      "              precision    recall  f1-score   support\n",
      "\n",
      "         0.0       1.00      0.44      0.61       207\n",
      "         1.0       0.93      1.00      0.97      1659\n",
      "\n",
      "    accuracy                           0.94      1866\n",
      "   macro avg       0.97      0.72      0.79      1866\n",
      "weighted avg       0.94      0.94      0.93      1866\n",
      "\n"
     ]
    }
   ],
   "source": [
    "# 94% accuracy on the training dataset\n",
    "print(classification_report(PR_train_tfidf_y_2, PR_pred_train_tfidf_y_2))"
   ]
  },
  {
   "cell_type": "code",
   "execution_count": 34,
   "metadata": {},
   "outputs": [
    {
     "name": "stdout",
     "output_type": "stream",
     "text": [
      "              precision    recall  f1-score   support\n",
      "\n",
      "         0.0       1.00      0.06      0.12        65\n",
      "         1.0       0.87      1.00      0.93       402\n",
      "\n",
      "    accuracy                           0.87       467\n",
      "   macro avg       0.93      0.53      0.52       467\n",
      "weighted avg       0.89      0.87      0.82       467\n",
      "\n"
     ]
    }
   ],
   "source": [
    "# 87% accuracy on the testing dataset\n",
    "print(classification_report(PR_test_tfidf_y_2, PR_pred_test_tfidf_y_2))"
   ]
  },
  {
   "cell_type": "markdown",
   "metadata": {},
   "source": [
    "As we see from the testing dataset, after changing the numeric boundary between good reviews and bad reviews to 3, the accuracy of prediction is now <b>87%</b>."
   ]
  },
  {
   "cell_type": "markdown",
   "metadata": {},
   "source": [
    "The accuracy <b>increased 9%</b> from 78% to 87%, which is in range [5%, 10%]. This indicates that our hypothesis is correct. The shift in numeric boundary between good and bad in park reviews does result in a change in prediction outcome. But this doesn't indicate causality by any means. We can't either conclude that by lowering boundary for good rating, the prediction accuracy using TF-IDF is improved."
   ]
  },
  {
   "cell_type": "markdown",
   "metadata": {},
   "source": [
    "# Ethics & Privacy"
   ]
  },
  {
   "cell_type": "markdown",
   "metadata": {},
   "source": [
    "- The study is made to analyze whether if there is a change in accuracy of prediction. Thus, it is guaranteed that the process of categorizing reviews to good or bad section will absolutely not harm the rights of the reviewer. Each reviewer have their freedom of speech and our categorization indicates no criticisms nor unsatisfaction to the bad reviews. It is only for seeing the change of prediction result.\n",
    "- The study puts the privacy of each individuals in priority as no personal information including gender, contact information,or age are exposed in the dataset. The dataset only includes information that are neccessary for our project.In addition, no assumption of gender, age, ethnic group, religious belief, or sexual preference is made towards each individual.We only look at the text itself.\n",
    "- The study is totally transparent as yelp review dataset is accessible. The reviewers are welcomed to commuicate and discuss with our results. If anyone is displeased being in the review, we can contact directly and that observation will be removed as we conduct a new set of result.\n",
    "- The study is justice and fair since we treat every single observation equally in the TF-IDF process. There is absolutely no artificial manipulation in the dataset which are attempted just to make the result more pleasing. This behavior is not tolerated."
   ]
  },
  {
   "cell_type": "markdown",
   "metadata": {},
   "source": [
    "# Conclusion & Discussion"
   ]
  },
  {
   "cell_type": "markdown",
   "metadata": {},
   "source": [
    "Based on the result, we can conclude that if we change the boundary of categorizing good reviews based on their rating(by 1 point), there would be at least a 5-10% change in prediction accuracy via TF-IDF in the yelp San Diego Park reviews."
   ]
  },
  {
   "cell_type": "markdown",
   "metadata": {},
   "source": [
    "However, there are many limitations to the study:\n",
    " - Due to limited time, we only did comparison on results of changing the boundary of good reviews from 4 to 3, which doesn't generalize for all circumstances. In other words, we have no idea what will happend to the prediction accuracy if we change the boundary from 5 to 4, 3 to 2, 1 to 3, 2 to 4 etc. Only comparing 4 and 3 doesn't give us the whole image and dynamic trends of changing the boundary.\n",
    " - The dataset we are using have observations with reviews that are not <b>ALL</b> included. Some long reviews ends with \"...\" which will definitely affect our result of sentiment analysis. If every review is included fully, the result will be more convincing and accurate than our current finding.\n",
    " - The argument passing in our TF-IDF vectorizer is also affect our result in a large extent. We set the maximum feature to be 2000 words. If the maximum feature is lowered or increased, the result will largely change. This limitation exposed this study's lack of completion due to time and human resources.\n",
    " - As we discussed in background and prior work, the qualitative side of the review is also very insightful and worthy to look at.Unfortunately we focused on the numeric part of the review, which is the \"good rating boundary\" effect. If there is more time, we will try to analyze whether if a review is qualified to analyze, while excluding those that are not quite helpful."
   ]
  },
  {
   "cell_type": "markdown",
   "metadata": {},
   "source": [
    "Overall, I hope this project uses San Diego Park review as an example to provide an insight for those who are interested in what is good and what determines good. The process of categorizing good standard would definitely be helpful for our own recognition and AI studies in the future."
   ]
  }
 ],
 "metadata": {
  "kernelspec": {
   "display_name": "Python 3",
   "language": "python",
   "name": "python3"
  },
  "language_info": {
   "codemirror_mode": {
    "name": "ipython",
    "version": 3
   },
   "file_extension": ".py",
   "mimetype": "text/x-python",
   "name": "python",
   "nbconvert_exporter": "python",
   "pygments_lexer": "ipython3",
   "version": "3.7.6"
  }
 },
 "nbformat": 4,
 "nbformat_minor": 2
}
