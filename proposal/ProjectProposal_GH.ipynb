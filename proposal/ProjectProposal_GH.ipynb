{
 "cells": [
  {
   "cell_type": "markdown",
   "metadata": {},
   "source": [
    "# COGS 108 - Project Proposal"
   ]
  },
  {
   "cell_type": "markdown",
   "metadata": {},
   "source": [
    "# Names & GitHub ID\n",
    "\n",
    "- Name: Zimu An\n",
    "- GitHub Username: zimuan"
   ]
  },
  {
   "cell_type": "markdown",
   "metadata": {},
   "source": [
    "# Research Question"
   ]
  },
  {
   "cell_type": "markdown",
   "metadata": {},
   "source": [
    "How does surrounding traffic and the volume of parking correlate with the number of visistors in San Diego parks?"
   ]
  },
  {
   "cell_type": "markdown",
   "metadata": {},
   "source": [
    "## Background and Prior Work"
   ]
  },
  {
   "cell_type": "markdown",
   "metadata": {},
   "source": [
    "*Fill in your background and prior work here. Be sure to specify which statements are from which references.* \n",
    "\n",
    "References (include links):\n",
    "- 1)\n",
    "- 2)"
   ]
  },
  {
   "cell_type": "markdown",
   "metadata": {},
   "source": [
    "# Hypothesis\n"
   ]
  },
  {
   "cell_type": "markdown",
   "metadata": {},
   "source": [
    "My hypothesis is that the number of visitors of San Diego parks positively correlates with their surrounding traffic and the volume of parking. Usually the most popular parks requires great amount of parking and sufficient ground traffic in order to contain and facilitate the large flow of vehicles from visitors. For example, in San Diego, although there isn't a big park around UCSD, many students would choose to go to Balboa park. It turns out that the Balboa park locates near the downtown (Southern side of SD), has multiple roads and streets, and has great amount of parking lot. I want to see whether if this phenomenon applies to all parks in San Diego."
   ]
  },
  {
   "cell_type": "markdown",
   "metadata": {},
   "source": [
    "# Data"
   ]
  },
  {
   "cell_type": "markdown",
   "metadata": {},
   "source": [
    "*Explain what the ideal dataset you would want to answer this question. (This should include: What variables? How many observations? Who/what/how would these data be collected? How would these data be stored/organized?)*"
    "- The ideal dataset requires the following variables: number of visitors of each park in San Diego(including monthly, annually), the number of available parking spots for each park, the number of vehicles parked in each park(monthly, annually), the number of streets and roads around each park, the boolean of each park if it requires ticket.\n",
    "- The number of observations should include every park in San Diego city, since all of the above variables depending on the specific park.\n"
    "- Since we have the boolean of each park suggesting whether it needs a ticket, the number of visitors of each park should be recorded by counting the tickets(True), otherwise recorded by staff(False). The staff should also be eligible for providing the number of available parking spots, and provide the monthly and annual number of parking vehicles(count daily, the data we use should be monthly and annually since there is fluctuation between each day, especially between weekdays and holiday). The number of streets should include all the streets around the 1.5 mile radius around the park, which can be counted via map and satellites.\n",
    "- The observation (row label) should be the name of each San Diego parks and the variables are stored in each column corresponding to that observation. We should have the table in sorted order by sorting the number of visitors(annually, as it displays the yearly performance of the park). "
  },
  {
   "cell_type": "markdown",
   "metadata": {},
   "source": [
    "# Ethics & Privacy"
   ]
  },
  {
   "cell_type": "markdown",
   "metadata": {},
   "source": [
    "*Fill in your ethics & privacy discussion here*"
   ]
  }
 ],
 "metadata": {
  "kernelspec": {
   "display_name": "Python 3",
   "language": "python",
   "name": "python3"
  },
  "language_info": {
   "codemirror_mode": {
    "name": "ipython",
    "version": 3
   },
   "file_extension": ".py",
   "mimetype": "text/x-python",
   "name": "python",
   "nbconvert_exporter": "python",
   "pygments_lexer": "ipython3",
   "version": "3.7.9"
  }
 },
 "nbformat": 4,
 "nbformat_minor": 2
}
