{
 "cells": [
  {
   "cell_type": "markdown",
   "metadata": {},
   "source": [
    "# COGS 108 - Project Proposal"
   ]
  },
  {
   "cell_type": "markdown",
   "metadata": {},
   "source": [
    "# Names & GitHub ID\n",
    "\n",
    "- Name: Zimu An\n",
    "- GitHub Username: zimuan"
   ]
  },
  {
   "cell_type": "markdown",
   "metadata": {},
   "source": [
    "# Research Question"
   ]
  },
  {
   "cell_type": "markdown",
   "metadata": {},
   "source": [
    "How does surrounding traffic and the volume of parking correlate with the number of visistors in San Diego parks?"
   ]
  },
  {
   "cell_type": "markdown",
   "metadata": {},
   "source": [
    "## Background and Prior Work"
   ]
  },
  {
   "cell_type": "markdown",
   "metadata": {},
   "source": [
    "In order to understand whether the study is fair, we should consider the relative availabiliy of the parking spaces in park of San Diego. According to San Diego government website, different parks may have various regluations towards parking. For example, vehicle parking is not allowed in most public parking lots in Mission Bay Park and the beach areas between 2 a.m. to 4 a.m.. Some lots may have more restrictive hours/gates. For another example, Balboa Park parking lots are prohibited from 2 a.m. to 6 a.m.. Thus, the San Diego website provide very precious information to this study such that violations and prohibitions should be considered, as the availability of the parking lot may also significantly alter the number of vehicles parked daily.\n"
    "'Land use, Traffic and Circulation, and Utilities' by the Folsom Lake State Recreation Area have done the similar study of analyzing land use in terms of unit, but not focusing on parking spaces, but the construction of the park itself. This study divides the recreation uses and non-recreation uses, including very specific suggestions such as enlargement of existing spillway gates, construction of concrete parpet wall, staging of construction equipment on landsite at dams, etc. This kind of study provides an insight to parks recreation, which will also complement well to our study of the traffic and parking lots. \n"
    "\n",
    "References (include links):\n",
    "- 1) San Diego Website reference about parking: https://www.sandiego.gov/park-and-recreation/parks/rules/rulesparking \n",
    "- 2) 'Land use, Traffic and Circulation, and Utilities' by the Folsom Lake State Recreation Area: http://www.parks.ca.gov/pages/500/files/landusechaptertext.pdf"
   ]
  },
  {
   "cell_type": "markdown",
   "metadata": {},
   "source": [
    "# Hypothesis\n"
   ]
  },
  {
   "cell_type": "markdown",
   "metadata": {},
   "source": [
    "My hypothesis is that the number of visitors of San Diego parks positively correlates with their surrounding traffic and the volume of parking. Usually the most popular parks requires great amount of parking and sufficient ground traffic in order to contain and facilitate the large flow of vehicles from visitors. For example, in San Diego, although there isn't a big park around UCSD, many students would choose to go to Balboa park. It turns out that the Balboa park locates near the downtown (Southern side of SD), has multiple roads and streets, and has great amount of parking lot. I want to see whether if this phenomenon applies to all parks in San Diego."
   ]
  },
  {
   "cell_type": "markdown",
   "metadata": {},
   "source": [
    "# Data"
   ]
  },
  {
   "cell_type": "markdown",
   "metadata": {},
   "source": [
    "- The ideal dataset requires the following variables: number of visitors of each park in San Diego(including monthly, annually), the number of available parking spots for each park, the number of vehicles parked in each park(monthly, annually), the number of streets and roads around each park, the boolean of each park if it requires ticket.\n",
    "- The number of observations should include every park in San Diego city, since all of the above variables depending on the specific park.\n",
    "- Since we have the boolean of each park suggesting whether it needs a ticket, the number of visitors of each park should be recorded by counting the tickets(True), otherwise recorded by staff(False). The governmental staff should also be eligible for providing the number of available parking spots, and provide the monthly and annual number of parking vehicles(count daily, the data we use should be monthly and annually since there is fluctuation between each day, especially between weekdays and holiday). The number of streets should include all the streets around the 1.5 mile radius around the park, which can be counted via map and satellites.\n",
    "- The observation (row label) should be the name of each San Diego parks and the variables are stored in each column corresponding to that observation. We should have the table in sorted order by sorting the number of visitors(annually, as it displays the yearly performance of the park). "
   ] 
  },
  {
   "cell_type": "markdown",
   "metadata": {},
   "source": [
    "# Ethics & Privacy"
   ]
  },
  {
   "cell_type": "markdown",
   "metadata": {},
   "source": [
    "- In this section, I combined the potential ethical problems and the solution to that prolem in each bullet point so it's visually more organized.\n",
    "- Since the emphasis of this study focuses on the size of inputs and parameters, not relating to either identities, genders, ages, or ethinic groups, the recording of visitors and their vehicles should be completely anonymous, protecting the personal information and the privacy of the park visitors. \n",
    "- The study is to be made fair, the data has to be fair and unbiased as well. I have concerned that some parks might be reporting the wrong number of visitors as they take the chance to improve their statistics and appeal to the analyst. However, this problem is solved by distributing governmental officials to every different parks to do the counting job. They would not neccessarily be counting visitors physically, but they need to monitor the camera recording. Every count should come from the camera and not from human. This solves the sentimental problem and human biases.\n",
    "- The previous step needs the consent of the park and the consent of visitors. The governmental staff needs to sign agreement form with each of the park to grant their permission for recording number of visitors. Even if the numbers reported in the final step is anonymous, the recording of camera puts visitors faces into the frame which may raise their concern. It is the duty of the park staff to inform the visitors that number will be recorded for studying the correlation between park's visitors and traffic. They need to be explained before entering the park that the counting is for future purposes of constructing parks. If the visitor refuses to be recorded we should take out the number. It would harm the accuracy of the result but the respecting visitor privacy should be concerned prior to anything. \n",
    "- The analysis should be based on the data, not the artistic side of the park. The history and other components of the park should not be considered, otherwise, the study won't be about the correlation between parking space and visitor, but the analysis of the park itself. \n",
    "- Since the result of the study would be of recreation uses, it also can provide unsatisfied result because it only looks at the traffic and parking lots, rather than the major components of the park. If recreation of parks are to be made, other studies such as the artistic preference, museum preference, and general layout should be carried out together with this study, since our study is just a complementary guide to the location of the park. \n"
    "- The data itself might be somewhat biased. As we mentioned in the background section, different parks have different regulations and prohibitions of parking. Thus, during certain period, while some parks allow parking, some do not. This adds inaccuracy to the annual number of parking vehicles because they all have different rules of parking. This issue can be alleviated by calculating the number of cars parking for every 365 days (calculate the number of cars parked per minute, then transform back to a year), given the total minute available for parking. In this way, the number of original annual parking would be transformed to every 365 days (calculate the number of cars), enable us to compare different parks."
   ]
  }
 ],
 "metadata": {
  "kernelspec": {
   "display_name": "Python 3", 
   "language": "python",
   "name": "python3"
  },
  "language_info": {
   "codemirror_mode": {
    "name": "ipython",
    "version": 3
   },
   "file_extension": ".py",
   "mimetype": "text/x-python",
   "name": "python",
   "nbconvert_exporter": "python",
   "pygments_lexer": "ipython3",
   "version": "3.7.9"
  }
 },
 "nbformat": 4,
 "nbformat_minor": 2
}
